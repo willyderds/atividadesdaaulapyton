{
  "nbformat": 4,
  "nbformat_minor": 0,
  "metadata": {
    "colab": {
      "name": "Atividade 2.ipynb",
      "provenance": [],
      "collapsed_sections": []
    },
    "kernelspec": {
      "name": "python3",
      "display_name": "Python 3"
    },
    "language_info": {
      "name": "python"
    }
  },
  "cells": [
    {
      "cell_type": "code",
      "execution_count": 1,
      "metadata": {
        "colab": {
          "base_uri": "https://localhost:8080/"
        },
        "id": "nx5A6egM35gR",
        "outputId": "220b8e2c-a927-4a59-83f0-e97834817b1c"
      },
      "outputs": [
        {
          "output_type": "stream",
          "name": "stdout",
          "text": [
            "will\n"
          ]
        }
      ],
      "source": [
        "nome = \"will\" \n",
        "print(nome)"
      ]
    },
    {
      "cell_type": "code",
      "source": [
        "altura = 1.70"
      ],
      "metadata": {
        "id": "w_CbCO7X5JgD"
      },
      "execution_count": 37,
      "outputs": []
    },
    {
      "cell_type": "code",
      "source": [
        "altura"
      ],
      "metadata": {
        "colab": {
          "base_uri": "https://localhost:8080/"
        },
        "id": "qUKfaCiGAKpv",
        "outputId": "69e8b92f-5cd0-4374-aed4-ecfc43b98aa7"
      },
      "execution_count": 11,
      "outputs": [
        {
          "output_type": "execute_result",
          "data": {
            "text/plain": [
              "180"
            ]
          },
          "metadata": {},
          "execution_count": 11
        }
      ]
    },
    {
      "cell_type": "code",
      "source": [
        "peso = 80"
      ],
      "metadata": {
        "id": "oN7FnXghBLj5"
      },
      "execution_count": 38,
      "outputs": []
    },
    {
      "cell_type": "code",
      "source": [
        "peso"
      ],
      "metadata": {
        "colab": {
          "base_uri": "https://localhost:8080/"
        },
        "id": "ntjava9BBS24",
        "outputId": "1d99f3b9-b7e7-4e53-c28b-e0859fc6c069"
      },
      "execution_count": 21,
      "outputs": [
        {
          "output_type": "execute_result",
          "data": {
            "text/plain": [
              "76"
            ]
          },
          "metadata": {},
          "execution_count": 21
        }
      ]
    },
    {
      "cell_type": "code",
      "source": [
        "def altura_mais_dez(altura):\n",
        "  return altura+10"
      ],
      "metadata": {
        "id": "p0UaX2MgAOUh"
      },
      "execution_count": 18,
      "outputs": []
    },
    {
      "cell_type": "code",
      "source": [
        "altura_mais_dez(altura)"
      ],
      "metadata": {
        "colab": {
          "base_uri": "https://localhost:8080/"
        },
        "id": "4pd6Gv9zAdTf",
        "outputId": "4be8b712-81c4-4433-a909-e12de38ee154"
      },
      "execution_count": 19,
      "outputs": [
        {
          "output_type": "execute_result",
          "data": {
            "text/plain": [
              "190"
            ]
          },
          "metadata": {},
          "execution_count": 19
        }
      ]
    },
    {
      "cell_type": "code",
      "source": [
        "def peso_mais_dez(peso):\n",
        "  return peso+10"
      ],
      "metadata": {
        "id": "1hrJ0dX2A-V8"
      },
      "execution_count": 23,
      "outputs": []
    },
    {
      "cell_type": "code",
      "source": [
        "peso_mais_dez(peso)"
      ],
      "metadata": {
        "colab": {
          "base_uri": "https://localhost:8080/"
        },
        "id": "_tnRQ2ZvBcux",
        "outputId": "4c338666-f321-439c-919b-024c11b5866d"
      },
      "execution_count": 24,
      "outputs": [
        {
          "output_type": "execute_result",
          "data": {
            "text/plain": [
              "86"
            ]
          },
          "metadata": {},
          "execution_count": 24
        }
      ]
    },
    {
      "cell_type": "code",
      "source": [
        "def IMC (peso,altura):\n",
        "  return peso/(altura*altura)"
      ],
      "metadata": {
        "id": "1wVEYNxGBlcI"
      },
      "execution_count": 30,
      "outputs": []
    },
    {
      "cell_type": "code",
      "source": [
        "IMC(peso,altura)"
      ],
      "metadata": {
        "colab": {
          "base_uri": "https://localhost:8080/"
        },
        "id": "NYtr8diTB5of",
        "outputId": "dca3c936-7f05-47f5-9a3a-0cfe6c36c763"
      },
      "execution_count": 39,
      "outputs": [
        {
          "output_type": "execute_result",
          "data": {
            "text/plain": [
              "27.68166089965398"
            ]
          },
          "metadata": {},
          "execution_count": 39
        }
      ]
    }
  ]
}